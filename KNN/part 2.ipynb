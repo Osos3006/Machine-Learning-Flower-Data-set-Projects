{
 "cells": [
  {
   "cell_type": "code",
   "execution_count": 24,
   "metadata": {},
   "outputs": [],
   "source": [
    "%matplotlib inline\n",
    "#matplotlib notebook\n",
    "#matplotlib notebook\n",
    "import numpy as np\n",
    "import matplotlib.pyplot as plt\n",
    "import math\n",
    "import pylab as pl\n",
    "import itertools\n",
    "#%matplotlib notebook"
   ]
  },
  {
   "cell_type": "code",
   "execution_count": 257,
   "metadata": {},
   "outputs": [],
   "source": [
    "def generate_equations_multi (F_tr,n):\n",
    "    '''\n",
    "    powers= list(itertools.product(list(range(1,n+1)), repeat=4))\n",
    "    #print (powers)\n",
    "\n",
    "    x_sum = np.array([])\n",
    "    for i in range (0,n+1):\n",
    "            for j in range (0,n+1):\n",
    "                for i in powers:\n",
    "                    p = list (i)\n",
    "                    #print (p)\n",
    "                    temp_V = V**p[0]\n",
    "\n",
    "                    temp_AT = AT**p[1]\n",
    "                    temp_AP = AP**p[2]\n",
    "                    temp_RH = RH**p[3]\n",
    "                    temp_term = temp_V * temp_AT * temp_AP * temp_RH\n",
    "            x_sum= np.append(x_sum,temp_term)\n",
    "    return x_sum\n",
    "    '''\n",
    "    \n",
    "    tt= []\n",
    "    N = F_tr.shape[0]\n",
    "    T = list (range(len(F_tr[0,:])))\n",
    "    \n",
    "    for i in range (2,n+1):\n",
    "        for j in itertools.combinations_with_replacement(T,i):\n",
    "            tt.append(list(j))\n",
    "    x_sum = F_tr.copy()\n",
    "    \n",
    "    for t in tt:\n",
    "        z=np.ones((N,1))\n",
    "        \n",
    "        for j in t:\n",
    "            z *= F_tr[:,j].reshape(-1,1)\n",
    "        x_sum=np.append(x_sum,z,axis=1)\n",
    "    return x_sum\n",
    "        \n",
    "            \n",
    "\n",
    "            \n",
    "            \n",
    "    "
   ]
  },
  {
   "cell_type": "code",
   "execution_count": 203,
   "metadata": {},
   "outputs": [
    {
     "name": "stdout",
     "output_type": "stream",
     "text": [
      "[(0, 0, 0, 0), (0, 0, 0, 1), (0, 0, 0, 2), (0, 0, 1, 0), (0, 0, 1, 1), (0, 0, 1, 2), (0, 0, 2, 0), (0, 0, 2, 1), (0, 0, 2, 2), (0, 1, 0, 0), (0, 1, 0, 1), (0, 1, 0, 2), (0, 1, 1, 0), (0, 1, 1, 1), (0, 1, 1, 2), (0, 1, 2, 0), (0, 1, 2, 1), (0, 1, 2, 2), (0, 2, 0, 0), (0, 2, 0, 1), (0, 2, 0, 2), (0, 2, 1, 0), (0, 2, 1, 1), (0, 2, 1, 2), (0, 2, 2, 0), (0, 2, 2, 1), (0, 2, 2, 2), (1, 0, 0, 0), (1, 0, 0, 1), (1, 0, 0, 2), (1, 0, 1, 0), (1, 0, 1, 1), (1, 0, 1, 2), (1, 0, 2, 0), (1, 0, 2, 1), (1, 0, 2, 2), (1, 1, 0, 0), (1, 1, 0, 1), (1, 1, 0, 2), (1, 1, 1, 0), (1, 1, 1, 1), (1, 1, 1, 2), (1, 1, 2, 0), (1, 1, 2, 1), (1, 1, 2, 2), (1, 2, 0, 0), (1, 2, 0, 1), (1, 2, 0, 2), (1, 2, 1, 0), (1, 2, 1, 1), (1, 2, 1, 2), (1, 2, 2, 0), (1, 2, 2, 1), (1, 2, 2, 2), (2, 0, 0, 0), (2, 0, 0, 1), (2, 0, 0, 2), (2, 0, 1, 0), (2, 0, 1, 1), (2, 0, 1, 2), (2, 0, 2, 0), (2, 0, 2, 1), (2, 0, 2, 2), (2, 1, 0, 0), (2, 1, 0, 1), (2, 1, 0, 2), (2, 1, 1, 0), (2, 1, 1, 1), (2, 1, 1, 2), (2, 1, 2, 0), (2, 1, 2, 1), (2, 1, 2, 2), (2, 2, 0, 0), (2, 2, 0, 1), (2, 2, 0, 2), (2, 2, 1, 0), (2, 2, 1, 1), (2, 2, 1, 2), (2, 2, 2, 0), (2, 2, 2, 1), (2, 2, 2, 2)]\n",
      "(162,)\n"
     ]
    }
   ],
   "source": [
    "b =np.array([1,2])\n",
    "z = generate_equations_multi (b,b,b,b,2)\n",
    "print(z.shape)"
   ]
  },
  {
   "cell_type": "code",
   "execution_count": 193,
   "metadata": {},
   "outputs": [],
   "source": [
    " def generate_equations (X,Y,n):\n",
    "        x_sum = np.array([])\n",
    "        xy= np.array([])\n",
    "        for i in range (0,n+1):\n",
    "            for j in range (0,n+1):\n",
    "                temp_x = np.sum(X**(i+j))  # generating the elements of the x^i matrix \n",
    "                x_sum= np.append(x_sum,temp_x)\n",
    "            temp_y=np.sum(Y*(X**i)) # generating the elements of the x^i y matrix \n",
    "            xy=np.append(xy,temp_y)\n",
    "        return x_sum, xy"
   ]
  },
  {
   "cell_type": "code",
   "execution_count": 27,
   "metadata": {},
   "outputs": [],
   "source": [
    "#solving the system of equations and finding the weights\n",
    "def find_w (x_sum,xy,n):\n",
    "    x_sum = np.reshape(x_sum, (( n + 1), (n + 1))) # adjust the dimensions to be solveable\n",
    "    xy = np.reshape(xy, ((n + 1), 1))\n",
    "    #print(x_sum, '\\n\\n', xy)\n",
    "    x_sum_inverse = np.linalg.inv(x_sum)\n",
    "    w = np.matmul(x_sum_inverse,xy).ravel()\n",
    "    #w = np.flip(w) #no need to flip\n",
    "    return w\n",
    "    #w=np.polyfit(V,P,1)\n",
    "    #print(w)\n",
    "    #print(w_os)"
   ]
  },
  {
   "cell_type": "code",
   "execution_count": 28,
   "metadata": {},
   "outputs": [],
   "source": [
    "def find_w_multi (X,t):\n",
    "    X=np.c_[X,np.ones(X.shape[0])]\n",
    "    X_T = np.transpose(X)\n",
    "    XT_X = np.matmul(X_T,X)\n",
    "    XT_X_inv = np.linalg.inv(XT_X)\n",
    "    w= np.linalg.multi_dot([XT_X_inv,X_T,t])\n",
    "    return w"
   ]
  },
  {
   "cell_type": "code",
   "execution_count": 92,
   "metadata": {},
   "outputs": [],
   "source": [
    "class LeastSquare(object):\n",
    "    #http://cs231n.github.io/classification/\n",
    "    def __init__(self):\n",
    "        pass\n",
    "    \n",
    "    def polynomial_fit (self,X,Y,n):\n",
    "        x_sum, xy =generate_equations (X,Y,n)\n",
    "        w= find_w (x_sum,xy,n)\n",
    "        return w\n",
    "    \n",
    "    def generate_model (self,X,W):\n",
    "        f = 0\n",
    "        for i in range (0,np.size(W)):\n",
    "            f += (W[i]*(X**i))\n",
    "        return f\n",
    "    \n",
    "    def generate_model_multi (self,X,W):\n",
    "        #W_t = np.transpose(W)\n",
    "        f = np.dot(X,W)\n",
    "        return f\n",
    "    \n",
    "    def calculate_rms_err (self,y,fn):\n",
    "        return math.sqrt(np.sum((y-fn)**2)/y.size)\n",
    "    \n",
    "        "
   ]
  },
  {
   "cell_type": "code",
   "execution_count": 30,
   "metadata": {},
   "outputs": [
    {
     "name": "stdout",
     "output_type": "stream",
     "text": [
      "(9568, 5)\n",
      "(9568, 5)\n",
      "(9568, 5)\n",
      "(9568, 5)\n",
      "(9568, 5)\n"
     ]
    }
   ],
   "source": [
    "# Use numpy to load the data\n",
    "fold_1 = np.loadtxt('C:/Users/Mohammed/CCPP/fold1.txt')\n",
    "fold_2 = np.loadtxt('C:/Users/Mohammed/CCPP/fold2.txt')\n",
    "fold_3 = np.loadtxt('C:/Users/Mohammed/CCPP/fold3.txt')\n",
    "fold_4 = np.loadtxt('C:/Users/Mohammed/CCPP/fold4.txt')\n",
    "fold_5 = np.loadtxt('C:/Users/Mohammed/CCPP/fold5.txt')\n",
    "print(fold_1.shape)\n",
    "print(fold_2.shape)\n",
    "print(fold_3.shape)\n",
    "print(fold_4.shape)\n",
    "print(fold_5.shape)\n"
   ]
  },
  {
   "cell_type": "code",
   "execution_count": 31,
   "metadata": {},
   "outputs": [],
   "source": [
    "def generate_validation_fold (fold_1,fold_2,fold_3,fold_4,fold_5,n):\n",
    "    training_folds = []\n",
    "    if (n==1):\n",
    "        training_folds.extend(fold_2)\n",
    "        training_folds.extend(fold_3)\n",
    "        training_folds.extend(fold_4)\n",
    "        training_folds.extend(fold_5)\n",
    "        validation_fold = fold_1\n",
    "    if (n==2):\n",
    "        training_folds.extend(fold_1)\n",
    "        training_folds.extend(fold_3)\n",
    "        training_folds.extend(fold_4)\n",
    "        training_folds.extend(fold_5)\n",
    "        validation_fold = fold_2\n",
    "    if (n==3):\n",
    "        training_folds.extend(fold_1)\n",
    "        training_folds.extend(fold_2)\n",
    "        training_folds.extend(fold_4)\n",
    "        training_folds.extend(fold_5)\n",
    "        validation_fold = fold_3\n",
    "    if (n==4):\n",
    "        training_folds.extend(fold_1)\n",
    "        training_folds.extend(fold_2)\n",
    "        training_folds.extend(fold_3)\n",
    "        training_folds.extend(fold_5)\n",
    "        validation_fold = fold_4\n",
    "    if (n==5):\n",
    "        training_folds.extend(fold_1)\n",
    "        training_folds.extend(fold_2)\n",
    "        training_folds.extend(fold_3)\n",
    "        training_folds.extend(fold_4)\n",
    "        validation_fold = fold_5\n",
    "    \n",
    "    training_folds=np.array(training_folds)\n",
    "    \n",
    "    return training_folds, validation_fold"
   ]
  },
  {
   "cell_type": "code",
   "execution_count": 32,
   "metadata": {},
   "outputs": [
    {
     "name": "stdout",
     "output_type": "stream",
     "text": [
      "[41.76 62.96 39.4  ... 41.31 43.52 48.6 ]\n",
      "[463.26 444.37 488.56 ... 489.86 458.57 460.63]\n"
     ]
    }
   ],
   "source": [
    "training_folds ,validation_fold = generate_validation_fold(fold_1,fold_2,fold_3,fold_4,fold_5,5)\n",
    "#training_folds_norm = training_folds / training_folds.max(axis=0)\n",
    "V = training_folds[:,1]\n",
    "P = training_folds[:,4]\n",
    "AT =training_folds[:,0]\n",
    "AP =training_folds[:,2]\n",
    "RH= training_folds[:,3]\n",
    "\n",
    "print (V)\n",
    "print (P)\n",
    "#print (validation_fold[0])\n",
    "#print (training_folds_norm[0])\n",
    "#print (training_folds.shape)\n",
    "#print (validation_fold.shape)"
   ]
  },
  {
   "cell_type": "code",
   "execution_count": 130,
   "metadata": {},
   "outputs": [
    {
     "name": "stdout",
     "output_type": "stream",
     "text": [
      "[0, 1, 3]\n",
      "[-1.70426591e+00 -3.24486516e-01  5.05477434e+02]\n"
     ]
    }
   ],
   "source": [
    "x=list(range(0,4))\n",
    "combination = []\n",
    "for L in range(0, len(x)+1):\n",
    "    for subset in itertools.combinations(x, L):\n",
    "        combination.append(list(subset))\n",
    "        #print(list(subset))\n",
    "        \n",
    "features_comb=[]\n",
    "for i in range (1,len(combination)):\n",
    "    #print(combination[i])\n",
    "    features_comb.append( training_folds[:,combination[i]])\n",
    "    \n",
    "    \n",
    "ws= find_w_multi (training_folds[:,combination[5]],P)\n",
    "print(combination[12])\n",
    "print(ws)\n",
    "    #print(features_comb[i-1].shape)\n",
    "#features_comb = np.array(features_comb)"
   ]
  },
  {
   "cell_type": "code",
   "execution_count": 192,
   "metadata": {},
   "outputs": [
    {
     "name": "stdout",
     "output_type": "stream",
     "text": [
      "(38272,)\n",
      "(38272,)\n",
      "(38272,)\n",
      "(38272,)\n",
      "(38272,)\n",
      "(38272,)\n",
      "(38272,)\n",
      "(38272,)\n",
      "(38272,)\n",
      "(38272,)\n",
      "(38272,)\n",
      "(38272,)\n",
      "(38272,)\n",
      "(38272,)\n",
      "(38272,)\n",
      "(38272,)\n",
      "(38272,)\n",
      "(38272,)\n",
      "(38272,)\n",
      "(38272,)\n",
      "(38272,)\n",
      "(38272,)\n",
      "(38272,)\n",
      "(38272,)\n",
      "(38272,)\n",
      "(38272,)\n",
      "(38272,)\n",
      "(38272,)\n",
      "(38272,)\n",
      "(38272,)\n",
      "(38272,)\n",
      "(38272,)\n",
      "(38272,)\n",
      "(38272,)\n",
      "(38272,)\n",
      "(38272,)\n",
      "(38272,)\n",
      "(38272,)\n",
      "(38272,)\n",
      "(38272,)\n",
      "(38272,)\n",
      "(38272,)\n",
      "(38272,)\n",
      "(38272,)\n",
      "(38272,)\n",
      "(38272,)\n",
      "(38272,)\n",
      "(38272,)\n",
      "(38272,)\n",
      "(38272,)\n",
      "(38272,)\n",
      "(38272,)\n",
      "(38272,)\n",
      "(38272,)\n",
      "(38272,)\n",
      "(38272,)\n",
      "(38272,)\n",
      "(38272,)\n",
      "(38272,)\n",
      "(38272,)\n",
      "(38272,)\n",
      "(38272,)\n",
      "(38272,)\n",
      "(38272,)\n",
      "(38272,)\n",
      "(38272,)\n",
      "(38272,)\n",
      "(38272,)\n",
      "(38272,)\n",
      "(38272,)\n",
      "(38272,)\n",
      "(38272,)\n",
      "(38272,)\n",
      "(38272,)\n",
      "(38272,)\n",
      "(38272,)\n",
      "(38272,)\n",
      "(38272,)\n",
      "(38272,)\n",
      "(38272,)\n",
      "(38272,)\n",
      "(38272,)\n",
      "(38272,)\n",
      "(38272,)\n",
      "(38272,)\n",
      "(38272,)\n",
      "(38272,)\n",
      "(38272,)\n",
      "(38272,)\n",
      "(38272,)\n",
      "(38272,)\n",
      "(38272,)\n",
      "(38272,)\n",
      "(38272,)\n",
      "(38272,)\n",
      "(38272,)\n",
      "(38272,)\n",
      "(38272,)\n",
      "(38272,)\n",
      "(38272,)\n"
     ]
    }
   ],
   "source": [
    "n = 9\n",
    "LS = LeastSquare()\n",
    "x_sum, xy = generate_equations (V,P,n)"
   ]
  },
  {
   "cell_type": "code",
   "execution_count": 70,
   "metadata": {},
   "outputs": [
    {
     "name": "stdout",
     "output_type": "stream",
     "text": [
      "[3.82720000e+04 2.07839172e+06 1.19048653e+08 7.15183119e+09\n",
      " 4.47153890e+11 2.88643909e+13 1.91002792e+15 1.28824986e+17\n",
      " 8.81785058e+18 6.10600638e+20 2.07839172e+06 1.19048653e+08\n",
      " 7.15183119e+09 4.47153890e+11 2.88643909e+13 1.91002792e+15\n",
      " 1.28824986e+17 8.81785058e+18 6.10600638e+20 4.26778476e+22\n",
      " 1.19048653e+08 7.15183119e+09 4.47153890e+11 2.88643909e+13\n",
      " 1.91002792e+15 1.28824986e+17 8.81785058e+18 6.10600638e+20\n",
      " 4.26778476e+22 3.00606375e+24 7.15183119e+09 4.47153890e+11\n",
      " 2.88643909e+13 1.91002792e+15 1.28824986e+17 8.81785058e+18\n",
      " 6.10600638e+20 4.26778476e+22 3.00606375e+24 2.13128007e+26\n",
      " 4.47153890e+11 2.88643909e+13 1.91002792e+15 1.28824986e+17\n",
      " 8.81785058e+18 6.10600638e+20 4.26778476e+22 3.00606375e+24\n",
      " 2.13128007e+26 1.51971214e+28 2.88643909e+13 1.91002792e+15\n",
      " 1.28824986e+17 8.81785058e+18 6.10600638e+20 4.26778476e+22\n",
      " 3.00606375e+24 2.13128007e+26 1.51971214e+28 1.08914486e+30\n",
      " 1.91002792e+15 1.28824986e+17 8.81785058e+18 6.10600638e+20\n",
      " 4.26778476e+22 3.00606375e+24 2.13128007e+26 1.51971214e+28\n",
      " 1.08914486e+30 7.84156826e+31 1.28824986e+17 8.81785058e+18\n",
      " 6.10600638e+20 4.26778476e+22 3.00606375e+24 2.13128007e+26\n",
      " 1.51971214e+28 1.08914486e+30 7.84156826e+31 5.66953852e+33\n",
      " 8.81785058e+18 6.10600638e+20 4.26778476e+22 3.00606375e+24\n",
      " 2.13128007e+26 1.51971214e+28 1.08914486e+30 7.84156826e+31\n",
      " 5.66953852e+33 4.11515835e+35 6.10600638e+20 4.26778476e+22\n",
      " 3.00606375e+24 2.13128007e+26 1.51971214e+28 1.08914486e+30\n",
      " 7.84156826e+31 5.66953852e+33 4.11515835e+35 2.99784536e+37]\n"
     ]
    }
   ],
   "source": [
    "print (x_sum)"
   ]
  },
  {
   "cell_type": "code",
   "execution_count": 71,
   "metadata": {},
   "outputs": [
    {
     "name": "stdout",
     "output_type": "stream",
     "text": [
      "[ 5.54146849e+02 -2.14437732e+00 -2.71228491e-03  1.34357110e-04]\n"
     ]
    }
   ],
   "source": [
    "\n",
    "n = 3\n",
    "w= LS.polynomial_fit (V,P,n)\n",
    "#w_p = np.polyfit(V,P,n)\n",
    "print(w)\n",
    "#print(w_p)"
   ]
  },
  {
   "cell_type": "code",
   "execution_count": 72,
   "metadata": {},
   "outputs": [
    {
     "name": "stdout",
     "output_type": "stream",
     "text": [
      "[469.65228346 441.91710087 473.66562172 ... 470.40572702 466.76108765\n",
      " 458.94682412]\n"
     ]
    }
   ],
   "source": [
    "y_pred = LS.generate_model(V,w)\n",
    "#y_pred = LS.generate_model(np.array([38.56]),w)\n",
    "#z = LS.generate_model(np.array([2]),np.array([1,2]))\n",
    "#print(z)\n",
    "#print(y_pred.shape)\n",
    "print(y_pred)"
   ]
  },
  {
   "cell_type": "code",
   "execution_count": 73,
   "metadata": {},
   "outputs": [
    {
     "name": "stdout",
     "output_type": "stream",
     "text": [
      "[463.26 444.37 488.56 ... 489.86 458.57 460.63]\n",
      "[469.65228346 441.91710087 473.66562172 ... 470.40572702 466.76108765\n",
      " 458.94682412]\n",
      "8.094768116235457\n"
     ]
    }
   ],
   "source": [
    "err = LS.calculate_rms_err(P,y_pred)\n",
    "print(P)\n",
    "print(y_pred)\n",
    "print(err)"
   ]
  },
  {
   "cell_type": "code",
   "execution_count": 127,
   "metadata": {},
   "outputs": [],
   "source": [
    "#finding the best polynomial order using V only as input\n",
    "training_errors = []\n",
    "validation_errors = []\n",
    "for k in range (1,16):\n",
    "    k_training_errors = []\n",
    "    k_validation_errors=[]\n",
    "    for i in range (1,6):\n",
    "        training_folds ,validation_fold = generate_validation_fold(fold_1,fold_2,fold_3,fold_4,fold_5,i)\n",
    "        V_tr = training_folds[:,1]\n",
    "        P_tr = training_folds[:,4]\n",
    "        V_valid=validation_fold[:,1]\n",
    "        P_valid=validation_fold[:,4]\n",
    "        x_sum_tr, xy_tr = generate_equations (V_tr,P_tr,k)\n",
    "        x_sum_valid, xy_valid = generate_equations (V_valid,P_valid,k)\n",
    "        w_tr = LS.polynomial_fit (V_tr,P_tr,k)\n",
    "        w_valid= LS.polynomial_fit (V_valid,P_valid,k)\n",
    "        #w_tr = np.polyfit (V_tr,P_tr,k).ravel()\n",
    "        #w_tr=np.flip(w_tr)\n",
    "        #w_valid= np.polyfit (V_valid,P_valid,k).ravel()\n",
    "        #w_valid=np.flip(w_valid)\n",
    "        V_tr_pred = LS.generate_model(V_tr,w_tr)\n",
    "        V_valid_pred = LS.generate_model(V_valid,w_valid)\n",
    "        err_tr = LS.calculate_rms_err(P_tr,V_tr_pred)\n",
    "        err_valid = LS.calculate_rms_err(P_valid,V_valid_pred)\n",
    "        k_training_errors.append(err_tr)\n",
    "        k_validation_errors.append(err_valid)\n",
    "\n",
    "    training_errors.append(k_training_errors) \n",
    "    validation_errors.append(k_validation_errors)\n",
    "        \n",
    "        \n",
    "        \n",
    "        \n",
    "    "
   ]
  },
  {
   "cell_type": "code",
   "execution_count": 75,
   "metadata": {},
   "outputs": [
    {
     "name": "stdout",
     "output_type": "stream",
     "text": [
      "[[8.421083720649516, 8.421083720649516, 8.421083720649516, 8.421083720649515, 8.421083720649515], [8.09733822412009, 8.09733822412009, 8.09733822412009, 8.09733822412009, 8.097338224120092], [8.094768116235457, 8.094768116235455, 8.094768116235457, 8.094768116235455, 8.094768116235457], [8.01017883799101, 8.010178837991013, 8.010178837991013, 8.01017883799103, 8.010178837991013], [7.8629039525344835, 7.862903952529804, 7.862903952529804, 7.862903952575347, 7.862903952682717], [7.8493250689070635, 7.849325100786577, 7.849325100786577, 7.849325032664446, 7.849325206024414], [7.748330457319411, 7.749367057172404, 7.754372972421681, 7.751843672407993, 7.752541053933194], [44.08959839035945, 20.741648784854725, 21.67422679679524, 10.970603360105478, 10.7403022697639], [761.3427029490755, 693.3181301289344, 396.5449031358081, 335.4071450492376, 9901.391210368965], [844.8121404111678, 801.238358372037, 313.14784099568953, 265.33285242601784, 344.1622727006076], [241.99901547997192, 114.39842595530006, 2504.8723277487734, 298.0852261793927, 1354.02881309207], [1470.3244598816132, 1458.5362964399949, 1936.732917015624, 933.7619355040007, 2967.0472034786562], [126.56759733846323, 110.11623562034856, 1235.9874916374042, 3162.873848678065, 729.5200019673947], [1881.3226091355539, 1386.156309633064, 7498.037352702369, 862.7413431834755, 834.1151060219103], [3462.4118207280026, 2316.0075770050353, 1128.3499884125183, 10981.239967538939, 939.3984505623724]]\n"
     ]
    }
   ],
   "source": [
    "print(training_errors)"
   ]
  },
  {
   "cell_type": "code",
   "execution_count": 76,
   "metadata": {},
   "outputs": [
    {
     "name": "stdout",
     "output_type": "stream",
     "text": [
      "[[8.421083720649515, 8.421083720649515, 8.421083720649515, 8.421083720649515, 8.421083720649515], [8.097338224120092, 8.09733822412009, 8.09733822412009, 8.097338224120092, 8.097338224120092], [8.094768116235457, 8.094768116235453, 8.094768116235455, 8.094768116235455, 8.094768116235453], [8.010178837991022, 8.010178837991013, 8.010178837991011, 8.010178837991008, 8.010178837991017], [7.862903952528831, 7.862903952528315, 7.862903952525377, 7.862903952533244, 7.862903952562892], [7.849325123527054, 7.849325265160451, 7.8493252404251255, 7.849325125228186, 7.84932503795399], [7.748186839632267, 7.750535900894489, 7.7487693090677, 7.748797238671432, 7.752906640904721], [12.76654285003288, 17.40772823653757, 14.611109565812644, 21.47490194582561, 18.379638380759776], [1135.4224785218194, 14.918064944235965, 261.48927600956813, 62.82083830742612, 253.65175873490162], [1460.0819140614237, 173.3384084432263, 501.8674967286195, 5942.736316290021, 116.16145182178681], [285.9652232576499, 394.24051840611855, 229.6934611874942, 1332.537151284127, 260.60310835391726], [508.7325934314185, 329.72772373041556, 635.9593689610581, 2212.1925549803, 320.44258764882903], [1556.3482417637993, 5574.124497263436, 1187.938602907555, 1071.9387695545363, 2913.4061400596224], [2709.1939968570473, 725.1117098900036, 1960.537741589546, 1298.1492412266716, 767.0122657309714], [2003.939130125497, 845.3421813393252, 4066.7212767004366, 1933.5338471148607, 1303.415468012246]]\n"
     ]
    }
   ],
   "source": [
    "print(validation_errors)"
   ]
  },
  {
   "cell_type": "code",
   "execution_count": 128,
   "metadata": {},
   "outputs": [
    {
     "data": {
      "image/png": "[encoded data removed]",
      "text/plain": [
       "<Figure size 432x288 with 1 Axes>"
      ]
     },
     "metadata": {
      "needs_background": "light"
     },
     "output_type": "display_data"
    }
   ],
   "source": [
    "avg_train_error=np.average(training_errors,axis=1)\n",
    "avg_validation_error=np.average(validation_errors,axis=1)\n",
    "\n",
    "x = list(range(1,16))\n",
    "#print (x)\n",
    "y_tr = training_errors\n",
    "y_valid = validation_errors\n",
    "#print(y)\n",
    "training_errors_dict = dict(zip(x,y_tr))\n",
    "validation_errors_dict = dict(zip(x,y_valid))\n",
    "#print(accuracies_dict[1])\n",
    "\n",
    "plt.plot(x , avg_train_error , 'b', alpha = 1)\n",
    "pl.plot(x , avg_validation_error , 'r', alpha = 1)\n",
    "\n",
    "for k in training_errors_dict:\n",
    "    #print(k)\n",
    "    c = np.random.random_sample(3)\n",
    "    for i in training_errors_dict[k]:\n",
    "        #print(\"i\"+ str(i))\n",
    "        plt.scatter(k , i , color = c , alpha = 1)\n",
    "        \n",
    "for k in validation_errors_dict:\n",
    "    #print(k)\n",
    "    c = np.random.random_sample(3)\n",
    "    for i in validation_errors_dict[k]:\n",
    "        #print(\"i\"+ str(i))\n",
    "        plt.scatter(k , i , color = c , alpha = 1)\n",
    "     \n",
    "\n",
    "plt.title(\"5 fold Cross-validation Erms Vs polynomial order\")\n",
    "plt.xlabel(\"polynomial order Values\")\n",
    "plt.ylabel(\"Cross Validation root mean sqare error (Erms)\")\n",
    "plt.legend(['training_error', 'validation_error'])\n",
    "#plt.figure()\n",
    "plt.show()"
   ]
  },
  {
   "cell_type": "code",
   "execution_count": 129,
   "metadata": {},
   "outputs": [],
   "source": [
    "#finding the best combination of the 4 features\n",
    "training_errors = []\n",
    "validation_errors = []\n",
    "for k in range (1,len(combination)):\n",
    "    k_training_errors = []\n",
    "    k_validation_errors=[]\n",
    "    for i in range (1,6):\n",
    "        training_folds ,validation_fold = generate_validation_fold(fold_1,fold_2,fold_3,fold_4,fold_5,i)\n",
    "        #V_tr = training_folds[:,1]\n",
    "        F_tr = training_folds[:,combination[k]] #combinations mix\n",
    "        \n",
    "        P_tr = training_folds[:,4]\n",
    "        #V_valid=validation_fold[:,1]\n",
    "        F_valid = validation_fold[:,combination[k]]\n",
    "        P_valid=validation_fold[:,4]\n",
    "        #x_sum_tr, xy_tr = generate_equations (V_tr,P_tr,k)\n",
    "        #x_sum_valid, xy_valid = generate_equations (V_valid,P_valid,k)\n",
    "        #w_tr = LS.polynomial_fit (V_tr,P_tr,k)\n",
    "        #w_valid= LS.polynomial_fit (V_valid,P_valid,k)\n",
    "        w_tr= find_w_multi (F_tr,P_tr)\n",
    "        w_valid = find_w_multi (F_valid,P_valid)\n",
    "        \n",
    "        #w_tr = np.polyfit (V_tr,P_tr,k).ravel()\n",
    "        #w_tr=np.flip(w_tr)\n",
    "        #w_valid= np.polyfit (V_valid,P_valid,k).ravel()\n",
    "        #w_valid=np.flip(w_valid) \n",
    "        F_tr=np.c_[F_tr,np.ones(F_tr.shape[0])] \n",
    "        F_valid=np.c_[F_valid,np.ones(F_valid.shape[0])] \n",
    "        F_tr_pred = LS.generate_model_multi(F_tr,w_tr)\n",
    "        #print(F_tr)\n",
    "        #print(w_tr)\n",
    "        F_valid_pred = LS.generate_model_multi(F_valid,w_valid)\n",
    "        #print(F_tr_pred.shape)\n",
    "        #print(F_valid_pred.shape)\n",
    "        #print(P_tr)\n",
    "        #print(F_tr_pred)\n",
    "        err_tr = LS.calculate_rms_err(P_tr,F_tr_pred)\n",
    "        err_valid = LS.calculate_rms_err(P_valid,F_valid_pred)\n",
    "        #print(P_valid)\n",
    "        #print(F_valid_pred)\n",
    "        k_training_errors.append(err_tr)\n",
    "        k_validation_errors.append(err_valid)\n",
    "\n",
    "    training_errors.append(k_training_errors) \n",
    "    validation_errors.append(k_validation_errors)"
   ]
  },
  {
   "cell_type": "code",
   "execution_count": 124,
   "metadata": {},
   "outputs": [
    {
     "name": "stdout",
     "output_type": "stream",
     "text": [
      "[[5.4250992627871355, 5.4250992627871355, 5.4250992627871355, 5.4250992627871355, 5.4250992627871355], [8.421083720649515, 8.421083720649513, 8.421083720649515, 8.421083720649516, 8.421083720649515], [14.593577348721812, 14.593577348721812, 14.59357734872181, 14.593577348721812, 14.593577348721814], [15.716209087848236, 15.716209087848236, 15.716209087848236, 15.716209087848236, 15.716209087848236], [4.954185932035631, 4.954185932035632, 4.954185932035631, 4.954185932035631, 4.954185932035631], [5.37481121652004, 5.37481121652004, 5.374811216520041, 5.374811216520041, 5.37481121652004], [4.7983352404368445, 4.7983352404368445, 4.7983352404368445, 4.7983352404368445, 4.798335240436844], [7.877703527587314, 7.8777035275873155, 7.877703527587315, 7.877703527587314, 7.877703527587314], [8.148713632162984, 8.148713632162984, 8.148713632162984, 8.148713632162984, 8.148713632162984], [13.39146431623522, 13.39146431623522, 13.39146431623522, 13.39146431623522, 13.391464316235218], [4.887719834860166, 4.887719834860166, 4.887719834860166, 4.8877198348601665, 4.887719834860164], [4.567380812318046, 4.567380812318047, 4.567380812318047, 4.5673808123180475, 4.567380812318046], [4.796682293961292, 4.796682293961293, 4.796682293961294, 4.796682293961294, 4.796682293961294], [7.556292110719189, 7.556292110719189, 7.55629211071919, 7.556292110719189, 7.556292110719189], [4.557126016749484, 4.557126016749483, 4.557126016749484, 4.557126016749484, 4.557126016749484]]\n"
     ]
    }
   ],
   "source": [
    "print((training_errors))"
   ]
  },
  {
   "cell_type": "code",
   "execution_count": 125,
   "metadata": {},
   "outputs": [
    {
     "name": "stdout",
     "output_type": "stream",
     "text": [
      "[[5.4250992627871355, 5.4250992627871355, 5.4250992627871355, 5.4250992627871355, 5.4250992627871355], [8.421083720649515, 8.421083720649515, 8.421083720649516, 8.421083720649515, 8.421083720649516], [14.593577348721812, 14.593577348721812, 14.593577348721812, 14.593577348721814, 14.593577348721812], [15.716209087848238, 15.716209087848238, 15.716209087848238, 15.716209087848236, 15.716209087848238], [4.954185932035631, 4.954185932035631, 4.954185932035631, 4.954185932035631, 4.954185932035632], [5.374811216520041, 5.37481121652004, 5.37481121652004, 5.374811216520041, 5.374811216520042], [4.7983352404368445, 4.7983352404368445, 4.7983352404368445, 4.798335240436844, 4.798335240436844], [7.877703527587313, 7.877703527587314, 7.877703527587315, 7.877703527587314, 7.877703527587314], [8.148713632162984, 8.148713632162984, 8.148713632162984, 8.148713632162984, 8.148713632162984], [13.39146431623522, 13.39146431623522, 13.39146431623522, 13.39146431623522, 13.39146431623522], [4.8877198348601665, 4.8877198348601665, 4.887719834860166, 4.887719834860166, 4.8877198348601665], [4.567380812318047, 4.567380812318047, 4.567380812318047, 4.5673808123180475, 4.5673808123180475], [4.796682293961293, 4.796682293961293, 4.796682293961293, 4.796682293961292, 4.796682293961292], [7.556292110719189, 7.556292110719189, 7.556292110719189, 7.55629211071919, 7.556292110719189], [4.557126016749484, 4.557126016749483, 4.557126016749484, 4.557126016749484, 4.557126016749483]]\n"
     ]
    }
   ],
   "source": [
    "print(validation_errors)"
   ]
  },
  {
   "cell_type": "code",
   "execution_count": null,
   "metadata": {},
   "outputs": [],
   "source": []
  },
  {
   "cell_type": "code",
   "execution_count": 135,
   "metadata": {},
   "outputs": [
    {
     "data": {
      "image/png": "[encoded data removed]",
      "text/plain": [
       "<Figure size 432x288 with 1 Axes>"
      ]
     },
     "metadata": {
      "needs_background": "light"
     },
     "output_type": "display_data"
    }
   ],
   "source": [
    "avg_train_error=np.average(training_errors,axis=1)\n",
    "avg_validation_error=np.average(validation_errors,axis=1)\n",
    "\n",
    "x = list(range (1,len(combination)))\n",
    "#print (x)\n",
    "y_tr = training_errors\n",
    "y_valid = validation_errors\n",
    "#print(y)\n",
    "training_errors_dict = dict(zip(x,y_tr))\n",
    "validation_errors_dict = dict(zip(x,y_valid))\n",
    "#print(accuracies_dict[1])\n",
    "\n",
    "plt.plot(x , avg_train_error , 'b', alpha = 1)\n",
    "plt.plot(x , avg_validation_error , 'r', alpha = 1)\n",
    "\n",
    "for k in training_errors_dict:\n",
    "    #print(k)\n",
    "    c = np.random.random_sample(3)\n",
    "    for i in training_errors_dict[k]:\n",
    "        #print(\"i\"+ str(i))\n",
    "        plt.scatter(k , i , color = c , alpha = 1)\n",
    "        \n",
    "for k in validation_errors_dict:\n",
    "    #print(k)\n",
    "    c = np.random.random_sample(3)\n",
    "    for i in validation_errors_dict[k]:\n",
    "        #print(\"i\"+ str(i))\n",
    "        plt.scatter(k , i , color = c , alpha = 1)\n",
    "     \n",
    "\n",
    "plt.title(\"5 fold Cross-validation Erms Vs Different combinations\")\n",
    "plt.xlabel(\"Different combinations\")\n",
    "plt.ylabel(\"Cross Validation root mean sqare error (Erms)\")\n",
    "plt.legend(['training_error', 'validation_error'])\n",
    "#plt.figure()\n",
    "plt.show()"
   ]
  },
  {
   "cell_type": "code",
   "execution_count": 140,
   "metadata": {},
   "outputs": [
    {
     "name": "stdout",
     "output_type": "stream",
     "text": [
      "(15,)\n",
      "14\n",
      "4.7983352404368445\n",
      "4.796682293961293\n",
      "4.557126016749484\n"
     ]
    }
   ],
   "source": [
    "print(avg_train_error.shape)\n",
    "print(np.argmin(avg_train_error))\n",
    "print(avg_train_error[6])\n",
    "print(avg_train_error[12])\n",
    "print(avg_train_error[14])"
   ]
  },
  {
   "cell_type": "code",
   "execution_count": 259,
   "metadata": {},
   "outputs": [],
   "source": [
    "#inputting the 4 features and finding the best polynomial [approximation]\n",
    "training_errors = []\n",
    "validation_errors = []\n",
    "for k in range (1,11): #trying polynomial from 1 to 10 \n",
    "    k_training_errors = []\n",
    "    k_validation_errors=[]\n",
    "    for i in range (1,6):\n",
    "        training_folds ,validation_fold = generate_validation_fold(fold_1,fold_2,fold_3,fold_4,fold_5,i)\n",
    "        A = training_folds[:,combination[14]] #all 4 inputs \n",
    "        B=validation_fold[:,combination[14]]\n",
    "\n",
    "        F_tr = generate_equations_multi (A,k)\n",
    "        F_valid = generate_equations_multi (B,k)\n",
    "        P_tr = training_folds[:,4]\n",
    "        P_valid = validation_fold[:,4]\n",
    "        \n",
    "        \n",
    "        \n",
    "        #print(F_tr.shape)\n",
    "        \n",
    "        #print(P_tr.shape)\n",
    "        #print(F_tr.shape)\n",
    "        #print(F_valid.shape)\n",
    "        #x_sum_tr, xy_tr = generate_equations (F_tr,P_tr,k)\n",
    "        #x_sum_valid, xy_valid = generate_equations (F_valid,P_valid,k)\n",
    "        #print(F_tr.shape)\n",
    "        w_tr = find_w_multi (F_tr,P_tr)\n",
    "        \n",
    "        #print (w_tr)\n",
    "        w_valid= find_w_multi (F_valid,P_valid)\n",
    "        F_tr=np.c_[F_tr,np.ones(F_tr.shape[0])] \n",
    "        F_valid=np.c_[F_valid,np.ones(F_valid.shape[0])] \n",
    "        #w_tr = np.polyfit (V_tr,P_tr,k).ravel()\n",
    "        #w_tr=np.flip(w_tr)\n",
    "        #w_valid= np.polyfit (V_valid,P_valid,k).ravel()\n",
    "        #w_valid=np.flip(w_valid)\n",
    "        #w_tr= np.transpose(w_tr)\n",
    "        #w_valid=np.transpose(w_valid)\n",
    "        F_tr_pred = LS.generate_model_multi(F_tr,w_tr)\n",
    "        #print(P_tr.shape)\n",
    "        F_valid_pred = LS.generate_model_multi(F_valid,w_valid)\n",
    "        err_tr = LS.calculate_rms_err(P_tr,F_tr_pred)\n",
    "        err_valid = LS.calculate_rms_err(P_valid,F_valid_pred)\n",
    "        k_training_errors.append(err_tr)\n",
    "        k_validation_errors.append(err_valid)\n",
    "\n",
    "    training_errors.append(k_training_errors) \n",
    "    validation_errors.append(k_validation_errors)"
   ]
  },
  {
   "cell_type": "code",
   "execution_count": null,
   "metadata": {},
   "outputs": [],
   "source": [
    "'''\n",
    "V_tr = training_folds[:,1]\n",
    "AT_tr =training_folds[:,0]\n",
    "AP_tr =training_folds[:,2]\n",
    "RH_tr= training_folds[:,3]\n",
    "P_tr = training_folds[:,4]\n",
    "\n",
    "#\n",
    "V_valid =validation_fold[:,1]\n",
    "AT_valid =validation_fold[:,0]\n",
    "AP_valid =validation_fold[:,2]\n",
    "RH_valid= validation_fold[:,3]\n",
    "P_valid=validation_fold[:,4]\n",
    "'''        '''\n",
    "v_sum_tr, vp_tr = generate_equations (V_tr,P_tr,k)\n",
    "AT_sum_tr, AT_tr = generate_equations (AT_tr,P_tr,k)\n",
    "AP_sum_tr, AP_tr = generate_equations (AP_tr,P_tr,k)\n",
    "RH_sum_tr, RH_tr = generate_equations (RH_tr,P_tr,k)\n",
    "\n",
    "v_sum_valid, vp_valid = generate_equations (V_valid,P_valid,k)\n",
    "AT_sum_valid, AT_valid = generate_equations (AT_valid,P_valid,k)\n",
    "AP_sum_valid, AP_valid = generate_equations (AP_valid,P_valid,k)\n",
    "RH_sum_valid, RH_valid = generate_equations (RH_valid,P_valid,k)\n",
    "'''"
   ]
  },
  {
   "cell_type": "code",
   "execution_count": 260,
   "metadata": {},
   "outputs": [
    {
     "name": "stdout",
     "output_type": "stream",
     "text": [
      "[[7.55629211071919, 7.55629211071919, 7.556292110719189, 7.556292110719189, 7.556292110719189], [7.105264963598542, 7.105264956344275, 7.1052649556202505, 7.1052649595657575, 7.105264957986314], [21.346505181444943, 16.632065718375515, 7.041618105736095, 13.344239057353407, 7.208906826003848], [96.49360957259186, 156.37055491142362, 37.29790908330892, 75.54210172988657, 122.15775932667357], [398.56408841801937, 338.67148155296303, 1967.873066617568, 395.7868028942308, 692.2651134120604], [1142.5765385523412, 1273.000044683889, 466.77741571128604, 361.03594328577896, 2237.4844778033344], [22148.762560516556, 1948.3267334939487, 1330.6763685485885, 139276.0639788728, 5024.58080081839], [9780.992649319105, 81147.44927198267, 6881.918096258454, 34301.82843290048, 4289.298996166884], [65967.65247321912, 40530.31888599277, 8305.869853293447, 50205.82667005525, 8235.692098479189], [27690.37961836853, 7926.528848985758, 7889.233035740519, 36373.37687524435, 22162.972886060983]]\n"
     ]
    }
   ],
   "source": [
    "print(training_errors)"
   ]
  },
  {
   "cell_type": "code",
   "execution_count": 261,
   "metadata": {},
   "outputs": [
    {
     "name": "stdout",
     "output_type": "stream",
     "text": [
      "[[7.556292110719189, 7.55629211071919, 7.556292110719189, 7.556292110719189, 7.556292110719189], [7.105264956578135, 7.105264966487497, 7.105264955220871, 7.105264960862731, 7.1052649608516525], [13.279727247999931, 11.8405695139544, 10.330268124741915, 9.921916382311315, 10.0442288578675], [124.97099116914451, 169.6167454064608, 209.90465998087106, 199.22938160382932, 683.5046647012763], [1753.81634090182, 1622.9047832134663, 5725.1348273197555, 564.9768288373559, 328.32302349530704], [5250.461546279127, 1514.0500515832148, 2128.2206592395073, 832.8162702215495, 15499.936047744111], [4342.8292139152945, 3582.0962839300782, 3166.487425137296, 24257.52521397767, 10805.059981613858], [15781.264796613814, 30387.778305362157, 23420.467015196304, 11266.378918221766, 6441.160631729819], [16327.08792441992, 10113.051979284344, 10135.776881287708, 15460.676528443824, 31738.335212980826], [129804.48448641444, 3126332.6322011193, 45136.30039697421, 65508.78354195808, 41482.58122248968]]\n"
     ]
    }
   ],
   "source": [
    "print(validation_errors)"
   ]
  },
  {
   "cell_type": "code",
   "execution_count": 262,
   "metadata": {},
   "outputs": [
    {
     "data": {
      "image/png": "[encoded data removed]",
      "text/plain": [
       "<Figure size 432x288 with 1 Axes>"
      ]
     },
     "metadata": {
      "needs_background": "light"
     },
     "output_type": "display_data"
    }
   ],
   "source": [
    "avg_train_error=np.average(training_errors,axis=1)\n",
    "avg_validation_error=np.average(validation_errors,axis=1)\n",
    "\n",
    "x = list(range(1,11))\n",
    "#print (x)\n",
    "y_tr = training_errors\n",
    "y_valid = validation_errors\n",
    "#print(y)\n",
    "training_errors_dict = dict(zip(x,y_tr))\n",
    "validation_errors_dict = dict(zip(x,y_valid))\n",
    "#print(accuracies_dict[1])\n",
    "\n",
    "plt.plot(x , avg_train_error , 'b', alpha = 1)\n",
    "pl.plot(x , avg_validation_error , 'r', alpha = 1)\n",
    "\n",
    "for k in training_errors_dict:\n",
    "    #print(k)\n",
    "    c = np.random.random_sample(3)\n",
    "    for i in training_errors_dict[k]:\n",
    "        #print(\"i\"+ str(i))\n",
    "        plt.scatter(k , i , color = c , alpha = 1)\n",
    "        \n",
    "for k in validation_errors_dict:\n",
    "    #print(k)\n",
    "    c = np.random.random_sample(3)\n",
    "    for i in validation_errors_dict[k]:\n",
    "        #print(\"i\"+ str(i))\n",
    "        plt.scatter(k , i , color = c , alpha = 1)\n",
    "     \n",
    "\n",
    "plt.title(\"5 fold Cross-validation Erms for all features Vs polynomial order\")\n",
    "plt.xlabel(\"polynomial order Values\")\n",
    "plt.ylabel(\"Cross Validation root mean sqare error (Erms)\")\n",
    "plt.legend(['training_error', 'validation_error'])\n",
    "#plt.figure()\n",
    "plt.show()"
   ]
  },
  {
   "cell_type": "code",
   "execution_count": 269,
   "metadata": {},
   "outputs": [
    {
     "name": "stdout",
     "output_type": "stream",
     "text": [
      "7\n"
     ]
    }
   ],
   "source": [
    "print (np.argmin(validation_errors))"
   ]
  }
 ],
 "metadata": {
  "kernelspec": {
   "display_name": "Python 3.7.5 64-bit",
   "language": "python",
   "name": "python37564bit393e47f0c3a043778b7627f1fc698c7d"
  },
  "language_info": {
   "codemirror_mode": {
    "name": "ipython",
    "version": 3
   },
   "file_extension": ".py",
   "mimetype": "text/x-python",
   "name": "python",
   "nbconvert_exporter": "python",
   "pygments_lexer": "ipython3",
   "version": "3.7.5"
  }
 },
 "nbformat": 4,
 "nbformat_minor": 4
}
